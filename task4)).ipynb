{
 "cells": [
  {
   "cell_type": "code",
   "execution_count": 1,
   "id": "7b7c1f3c-6fda-4ba4-8353-61dd2609e713",
   "metadata": {},
   "outputs": [
    {
     "name": "stdin",
     "output_type": "stream",
     "text": [
      " 61\n"
     ]
    },
    {
     "name": "stdout",
     "output_type": "stream",
     "text": [
      "61 is a prime number\n"
     ]
    }
   ],
   "source": [
    "#Prime Number Checker \n",
    "def prime_checker(number) :\n",
    "    for n in  range   ( 2 , number ) :\n",
    "        if number % n == 0 :\n",
    "           print( number ,\"is not a prime number\" )\n",
    "           return\n",
    "    print ( number  , \"is a prime number\" )\n",
    "            \n",
    "prime_checker( int(input()))"
   ]
  },
  {
   "cell_type": "code",
   "execution_count": 10,
   "id": "ab1fb699-2ddd-4183-868a-960e81b16ae5",
   "metadata": {},
   "outputs": [
    {
     "name": "stdin",
     "output_type": "stream",
     "text": [
      "enter the first number 8989\n",
      "enter the second one  5696989\n",
      "which operation do you want to perform multiply\n"
     ]
    },
    {
     "name": "stdout",
     "output_type": "stream",
     "text": [
      "the result is 51210234121\n"
     ]
    }
   ],
   "source": [
    "#Custom Calculator \n",
    "def calculator(a, b, operation) :\n",
    "    if operation == \"subtract\" :\n",
    "       return  a - b \n",
    "    if operation == \"divide\" :\n",
    "        return  a / b\n",
    "    if operation == \"multiply\" :\n",
    "        return  a * b \n",
    "    if operation == \"add\" :\n",
    "       return a + b \n",
    "a = int(input (\"enter the first number\"))\n",
    "b = int(input (\"enter the second one \"))\n",
    "operation = input (\"which operation do you want to perform\")\n",
    "result = calculator(a , b , operation)\n",
    "print ( \"the result is\" , result )"
   ]
  },
  {
   "cell_type": "code",
   "execution_count": null,
   "id": "f35850a2-6939-4f59-ae73-176cc270c08c",
   "metadata": {},
   "outputs": [],
   "source": []
  }
 ],
 "metadata": {
  "kernelspec": {
   "display_name": "Python [conda env:base] *",
   "language": "python",
   "name": "conda-base-py"
  },
  "language_info": {
   "codemirror_mode": {
    "name": "ipython",
    "version": 3
   },
   "file_extension": ".py",
   "mimetype": "text/x-python",
   "name": "python",
   "nbconvert_exporter": "python",
   "pygments_lexer": "ipython3",
   "version": "3.13.5"
  }
 },
 "nbformat": 4,
 "nbformat_minor": 5
}
