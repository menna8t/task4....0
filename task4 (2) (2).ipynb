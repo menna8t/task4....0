{
 "cells": [
  {
   "cell_type": "code",
   "execution_count": 1,
   "id": "fe7d5432-fd94-471b-9837-06403aefc345",
   "metadata": {},
   "outputs": [
    {
     "name": "stdin",
     "output_type": "stream",
     "text": [
      "enter the first number 989889\n",
      "enter the second one  7999\n",
      "which operation do you want to perform multiply\n"
     ]
    },
    {
     "name": "stdout",
     "output_type": "stream",
     "text": [
      "the result is 7918122111\n"
     ]
    }
   ],
   "source": [
    "#Custom Calculator \n",
    "def calculator(a, b, operation) :\n",
    "    if operation == \"subtract\" :\n",
    "       return  a - b \n",
    "    if operation == \"divide\" :\n",
    "        return  a / b\n",
    "    if operation == \"multiply\" :\n",
    "        return  a * b \n",
    "    if operation == \"add\" :\n",
    "       return a + b \n",
    "a = int(input (\"enter the first number\"))\n",
    "b = int(input (\"enter the second one \"))\n",
    "operation = input (\"which operation do you want to perform\")\n",
    "result = calculator(a , b , operation)\n",
    "print ( \"the result is\" , result )"
   ]
  },
  {
   "cell_type": "code",
   "execution_count": null,
   "id": "b226a264-c40a-404b-81a3-bce7e059d8b8",
   "metadata": {},
   "outputs": [],
   "source": []
  }
 ],
 "metadata": {
  "kernelspec": {
   "display_name": "Python [conda env:base] *",
   "language": "python",
   "name": "conda-base-py"
  },
  "language_info": {
   "codemirror_mode": {
    "name": "ipython",
    "version": 3
   },
   "file_extension": ".py",
   "mimetype": "text/x-python",
   "name": "python",
   "nbconvert_exporter": "python",
   "pygments_lexer": "ipython3",
   "version": "3.13.5"
  }
 },
 "nbformat": 4,
 "nbformat_minor": 5
}
